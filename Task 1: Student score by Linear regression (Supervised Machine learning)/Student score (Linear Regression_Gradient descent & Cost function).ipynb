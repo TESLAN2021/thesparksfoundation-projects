{
 "cells": [
  {
   "cell_type": "markdown",
   "metadata": {},
   "source": [
    "<h1 align=\"center\">Student Score Dataset</h1> \n",
    "\n",
    "<h1 align=\"center\">Linear Regression | GRIP Task 1 | Jan21 | DataScience</h1> \n",
    "\n",
    "\n",
    "### Author: Preet Mehta"
   ]
  },
  {
   "cell_type": "markdown",
   "metadata": {},
   "source": [
    "\n",
    "## Table of Contents\n",
    "\n",
    "1. What is Linear Regression\n",
    "2. Hypothesis of Linear Regression\n",
    "3. Understanding Maths behind Linear regression\n",
    "4. Gradient descent & Cost function\n",
    "\n",
    "### Predicting dependent variable (y) and R squared from scratch \n",
    "6. Training a Linear Regression model\n",
    "7. Evaluating the model\n",
    "8. scikit-learn implementation\n",
    "9. Stochastic Gradient Descent (SGDRegressor)\n"
   ]
  },
  {
   "cell_type": "markdown",
   "metadata": {},
   "source": [
    "## Step 1: What is Linear regression?  "
   ]
  },
  {
   "cell_type": "markdown",
   "metadata": {},
   "source": [
    "<h4 align=\"left\"></h4> \n",
    "- Somethinng you know right from your school days\n",
    "<img src =\"https://miro.medium.com/max/361/1*nejpuvlh1MbMGQtve_1ztQ.png\", width=\"200px\">\n",
    "- Our Goal: To find the best fit line\n",
    "<img src =\"https://miro.medium.com/max/2400/1*2VBMHbTdBI4cNozHhpTa0Q.png\", width=\"500px\", align='center'>\n",
    "<h4 align=\"left\">Methods to find the coefficient: </h4> \n",
    "\n",
    "- Ordinary Least Mean Square Method\n",
    "- Gradient Descent approach\n",
    "\n",
    "Here, we will be implementing Gradient Descent approach\n",
    "\n",
    "\n",
    "\n"
   ]
  },
  {
   "cell_type": "markdown",
   "metadata": {},
   "source": [
    "## Step 2: Hypothesis of Linear Regression"
   ]
  },
  {
   "cell_type": "markdown",
   "metadata": {},
   "source": [
    "The linear regression model can be represented by the following equation:\n",
    "\n",
    "<img src =\"https://miro.medium.com/max/313/1*A32yDrkQKIU0Z-Nf7JD9Pg.png\">\n",
    "\n",
    "- Y is the predicted value\n",
    "- θ₀ is the bias term.\n",
    "- θ₁,…,θₙ are the model parameters\n",
    "- x₁, x₂,…,xₙ are the feature values."
   ]
  },
  {
   "cell_type": "markdown",
   "metadata": {},
   "source": [
    "## Step 3: Understanding Maths behind Linear regression"
   ]
  },
  {
   "cell_type": "markdown",
   "metadata": {},
   "source": [
    "\n",
    "<img src= \"https://miro.medium.com/max/570/1*2zsXR1bjDs3fQ4MOxbmehg.png\">\n",
    "\n",
    "<h4 align=\"left\">SSE: Sum of Squares Errors (RSS: Residual sum of squares or Residual error or or unexplained variability)</h4> \n",
    "<img src= \"https://miro.medium.com/max/235/1*WmyUp5prG2V72UuGMakBzg.png\">\n",
    "<h4 align=\"left\">SSR: Sum of Squares Regression (ESS: Explained sum of squares or Regression Error or Explained variability)</h4> \n",
    "<img src= \"https://miro.medium.com/max/236/1*V17CDOVyjDcAuOnW5p2QGw.png\">\n",
    "<h4 align=\"left\">SST: Sum of Squares Total (SST = SSR + SSE)</h4> \n",
    "<h4 align=\"left\">TSS: Total sum of squares (TSS = ESS + RSS)</h4> \n",
    "<img src= \"https://miro.medium.com/max/261/1*btPemyKR9EQDUN6O8o_ejw.png\">\n",
    "\n",
    "<h4 align=\"left\">R² score or the coefficient of determination explains how much the total variance of the dependent variable can be reduced by using the least square regression</h4> \n",
    "<img src= \"https://miro.medium.com/max/318/1*eebOVNcNlkwqM-fWjzmOLg.gif\", width=\"200px\">\n",
    "<img src= \"https://miro.medium.com/max/128/1*dUAJL0vVJw7gfb5cq3eluA.png\", width=\"200px\">"
   ]
  },
  {
   "cell_type": "markdown",
   "metadata": {},
   "source": [
    "## Step 4: Gradient descent & Cost function"
   ]
  },
  {
   "cell_type": "markdown",
   "metadata": {},
   "source": [
    "### Gradient Descent\n",
    "- Gradient is one optimization method which can be used to optimize the Residual sum of squares cost function. \n",
    "- There can be other cost functions. Basically it starts with an initial value of β0 and β1 and then finds the cost function. \n",
    "- It then increases or decreases the parameters to find the next cost function value. \n",
    "- This is done till a minima is found. \n",
    "- Gradient descent expects that there is no local minimal and the graph of the cost function is convex.\n",
    "Mathematics of gradient descent: https://www.youtube.com/watch?v=jc2IthslyzM\n",
    "<h4 align=\"left\"></h4> \n",
    "<img src= \"https://editor.analyticsvidhya.com/uploads/63238GD_2params.jpg\", width=\"700px\">\n",
    "<img src= \"https://i.stack.imgur.com/3MhPr.png\", width=\"700px\">\n"
   ]
  },
  {
   "cell_type": "markdown",
   "metadata": {},
   "source": [
    "<h4 align=\"center\"></h4> \n",
    "<img src =\"https://editor.analyticsvidhya.com/uploads/27669loss%20function5.jpg\", width=\"800px\">\n",
    "<h5 align=\"center\">Note: (i) in the equation represents the ith training example, not the power.</h5> "
   ]
  },
  {
   "cell_type": "markdown",
   "metadata": {},
   "source": [
    "<h4 align=\"center\">Let's do this</h4> \n",
    "<img src =\"https://miro.medium.com/max/750/1*d3W4j-j-HiN5O8OOBshgrA.gif\", width=\"400px\">"
   ]
  },
  {
   "cell_type": "markdown",
   "metadata": {},
   "source": [
    "## Step 6: Training a Linear Regression model"
   ]
  },
  {
   "cell_type": "code",
   "execution_count": 3,
   "metadata": {},
   "outputs": [],
   "source": [
    "import numpy as np\n",
    "import pandas as pd"
   ]
  },
  {
   "cell_type": "code",
   "execution_count": 4,
   "metadata": {},
   "outputs": [],
   "source": [
    "z=pd.read_csv(\"Studentscorev1.csv\")\n",
    "x=z.Hours\n",
    "y=z.Scores\n",
    "n=len(x)"
   ]
  },
  {
   "cell_type": "code",
   "execution_count": 5,
   "metadata": {},
   "outputs": [
    {
     "data": {
      "text/html": [
       "<div>\n",
       "<style scoped>\n",
       "    .dataframe tbody tr th:only-of-type {\n",
       "        vertical-align: middle;\n",
       "    }\n",
       "\n",
       "    .dataframe tbody tr th {\n",
       "        vertical-align: top;\n",
       "    }\n",
       "\n",
       "    .dataframe thead th {\n",
       "        text-align: right;\n",
       "    }\n",
       "</style>\n",
       "<table border=\"1\" class=\"dataframe\">\n",
       "  <thead>\n",
       "    <tr style=\"text-align: right;\">\n",
       "      <th></th>\n",
       "      <th>Hours</th>\n",
       "      <th>Scores</th>\n",
       "    </tr>\n",
       "  </thead>\n",
       "  <tbody>\n",
       "    <tr>\n",
       "      <th>0</th>\n",
       "      <td>2.5</td>\n",
       "      <td>21</td>\n",
       "    </tr>\n",
       "    <tr>\n",
       "      <th>1</th>\n",
       "      <td>5.1</td>\n",
       "      <td>47</td>\n",
       "    </tr>\n",
       "    <tr>\n",
       "      <th>2</th>\n",
       "      <td>3.2</td>\n",
       "      <td>27</td>\n",
       "    </tr>\n",
       "    <tr>\n",
       "      <th>3</th>\n",
       "      <td>8.5</td>\n",
       "      <td>75</td>\n",
       "    </tr>\n",
       "    <tr>\n",
       "      <th>4</th>\n",
       "      <td>3.5</td>\n",
       "      <td>30</td>\n",
       "    </tr>\n",
       "    <tr>\n",
       "      <th>5</th>\n",
       "      <td>1.5</td>\n",
       "      <td>20</td>\n",
       "    </tr>\n",
       "    <tr>\n",
       "      <th>6</th>\n",
       "      <td>9.2</td>\n",
       "      <td>88</td>\n",
       "    </tr>\n",
       "    <tr>\n",
       "      <th>7</th>\n",
       "      <td>5.5</td>\n",
       "      <td>60</td>\n",
       "    </tr>\n",
       "    <tr>\n",
       "      <th>8</th>\n",
       "      <td>8.3</td>\n",
       "      <td>81</td>\n",
       "    </tr>\n",
       "    <tr>\n",
       "      <th>9</th>\n",
       "      <td>2.7</td>\n",
       "      <td>25</td>\n",
       "    </tr>\n",
       "    <tr>\n",
       "      <th>10</th>\n",
       "      <td>7.7</td>\n",
       "      <td>85</td>\n",
       "    </tr>\n",
       "    <tr>\n",
       "      <th>11</th>\n",
       "      <td>5.9</td>\n",
       "      <td>62</td>\n",
       "    </tr>\n",
       "    <tr>\n",
       "      <th>12</th>\n",
       "      <td>4.5</td>\n",
       "      <td>41</td>\n",
       "    </tr>\n",
       "    <tr>\n",
       "      <th>13</th>\n",
       "      <td>3.3</td>\n",
       "      <td>42</td>\n",
       "    </tr>\n",
       "    <tr>\n",
       "      <th>14</th>\n",
       "      <td>1.1</td>\n",
       "      <td>17</td>\n",
       "    </tr>\n",
       "    <tr>\n",
       "      <th>15</th>\n",
       "      <td>8.9</td>\n",
       "      <td>95</td>\n",
       "    </tr>\n",
       "    <tr>\n",
       "      <th>16</th>\n",
       "      <td>2.5</td>\n",
       "      <td>30</td>\n",
       "    </tr>\n",
       "    <tr>\n",
       "      <th>17</th>\n",
       "      <td>1.9</td>\n",
       "      <td>24</td>\n",
       "    </tr>\n",
       "    <tr>\n",
       "      <th>18</th>\n",
       "      <td>6.1</td>\n",
       "      <td>67</td>\n",
       "    </tr>\n",
       "    <tr>\n",
       "      <th>19</th>\n",
       "      <td>7.4</td>\n",
       "      <td>69</td>\n",
       "    </tr>\n",
       "    <tr>\n",
       "      <th>20</th>\n",
       "      <td>2.7</td>\n",
       "      <td>30</td>\n",
       "    </tr>\n",
       "    <tr>\n",
       "      <th>21</th>\n",
       "      <td>4.8</td>\n",
       "      <td>54</td>\n",
       "    </tr>\n",
       "    <tr>\n",
       "      <th>22</th>\n",
       "      <td>3.8</td>\n",
       "      <td>35</td>\n",
       "    </tr>\n",
       "    <tr>\n",
       "      <th>23</th>\n",
       "      <td>6.9</td>\n",
       "      <td>76</td>\n",
       "    </tr>\n",
       "    <tr>\n",
       "      <th>24</th>\n",
       "      <td>7.8</td>\n",
       "      <td>86</td>\n",
       "    </tr>\n",
       "  </tbody>\n",
       "</table>\n",
       "</div>"
      ],
      "text/plain": [
       "    Hours  Scores\n",
       "0     2.5      21\n",
       "1     5.1      47\n",
       "2     3.2      27\n",
       "3     8.5      75\n",
       "4     3.5      30\n",
       "5     1.5      20\n",
       "6     9.2      88\n",
       "7     5.5      60\n",
       "8     8.3      81\n",
       "9     2.7      25\n",
       "10    7.7      85\n",
       "11    5.9      62\n",
       "12    4.5      41\n",
       "13    3.3      42\n",
       "14    1.1      17\n",
       "15    8.9      95\n",
       "16    2.5      30\n",
       "17    1.9      24\n",
       "18    6.1      67\n",
       "19    7.4      69\n",
       "20    2.7      30\n",
       "21    4.8      54\n",
       "22    3.8      35\n",
       "23    6.9      76\n",
       "24    7.8      86"
      ]
     },
     "execution_count": 5,
     "metadata": {},
     "output_type": "execute_result"
    }
   ],
   "source": [
    "z"
   ]
  },
  {
   "cell_type": "code",
   "execution_count": 6,
   "metadata": {},
   "outputs": [],
   "source": [
    "## Now lets define cost function\n",
    "#y=theta1.x+theta0"
   ]
  },
  {
   "cell_type": "code",
   "execution_count": 7,
   "metadata": {},
   "outputs": [],
   "source": [
    "# def cost_function(theta1):\n",
    "#     x=z.Hours\n",
    "#     y=z.Scores\n",
    "#     n=len(x)\n",
    "#     sum_of_error=[]\n",
    "#     for i in range(n):\n",
    "#         x.theta1=x[i]*theta1\n",
    "#         error=x.theta1-y[i]\n",
    "#         error_square=error*error\n",
    "#         sum_of_error.append(error_square)\n",
    "#     j=(0.5*sum(sum_of_error))/n\n",
    "        \n",
    "#     return j\n",
    "    "
   ]
  },
  {
   "cell_type": "code",
   "execution_count": 8,
   "metadata": {},
   "outputs": [],
   "source": [
    "#Defining Gradient descent:\n",
    "def gradient_descent1(alpha,iters):\n",
    "    x=z.Hours\n",
    "    y=z.Scores\n",
    "    n=len(x)\n",
    "    theta0=0\n",
    "    theta1=0\n",
    "    \n",
    "    for h in range(iters):\n",
    "        d_theta1=[]\n",
    "        d_theta0=[]   \n",
    "        for i in range(n):\n",
    "            d_theta0.append(theta0+theta1*x[i]-y[i])\n",
    "            d_theta1.append((theta0+theta1*x[i]-y[i])*x[i])\n",
    "            \n",
    "\n",
    "        theta1=theta1-alpha*sum(d_theta1)*(1/n)\n",
    "        theta0=theta0-alpha*sum(d_theta0)*(1/n)\n",
    "\n",
    "    return theta1,theta0"
   ]
  },
  {
   "cell_type": "code",
   "execution_count": 9,
   "metadata": {},
   "outputs": [],
   "source": [
    "# Defining R square function:\n",
    "def R_square():\n",
    "    import statistics\n",
    "    SSE=[]\n",
    "    SST=[]\n",
    "    RMSE=[]\n",
    "    n=len(z.Hours)\n",
    "    for i in range(n):\n",
    "        e=(predict(x[i])-z.Scores[i])**2\n",
    "        t=(y[i]-statistics.mean(z.Scores))**2\n",
    "        u=(predict(x[i])-y[i])**2\n",
    "        SSE.append(e)\n",
    "        SST.append(t)\n",
    "        RMSE.append(u)\n",
    "        \n",
    "\n",
    "        R_square=1-((sum(SSE))/(sum(SST)))\n",
    "    return R_square*100"
   ]
  },
  {
   "cell_type": "code",
   "execution_count": 10,
   "metadata": {},
   "outputs": [],
   "source": [
    "theta1,theta0=gradient_descent1(0.01,1000)"
   ]
  },
  {
   "cell_type": "markdown",
   "metadata": {},
   "source": [
    "## Step 7: Evaluating the model\n",
    "- Till now we have implemented linear regression from scratch and used gradient descent to find the model parameters. \n",
    "- But how good is our model? \n",
    "- We need some measure to calculate the accuracy of our model. \n",
    "- Let’s look at various metrics to evaluate the model we built above.\n",
    "\n",
    "### Evaluating the performance of the model\n",
    "- We will be using Root mean squared error(RMSE) and Coefficient of Determination(R² score) to evaluate our model."
   ]
  },
  {
   "cell_type": "code",
   "execution_count": 11,
   "metadata": {},
   "outputs": [
    {
     "data": {
      "text/plain": [
       "(92.97420126293007, 95.29427607939829)"
      ]
     },
     "execution_count": 11,
     "metadata": {},
     "output_type": "execute_result"
    }
   ],
   "source": [
    "#Defining prediction function\n",
    "def predict(x):\n",
    "    return theta0+theta1*x\n",
    "predict(9.25), R_square()"
   ]
  },
  {
   "cell_type": "code",
   "execution_count": 12,
   "metadata": {},
   "outputs": [
    {
     "name": "stdout",
     "output_type": "stream",
     "text": [
      "21 26.84534713232546\n",
      "47 52.31720205670649\n",
      "27 33.70315422735112\n",
      "75 85.626550803974\n",
      "30 36.64221441093355\n",
      "20 17.04847985371737\n",
      "88 92.48435789899966\n",
      "60 56.23594896814973\n",
      "81 83.66717734825238\n",
      "25 28.80472058804708\n",
      "85 77.78905698108753\n",
      "62 60.154695879592964\n",
      "41 46.43908168954164\n",
      "42 34.68284095521193\n",
      "17 13.129732942274133\n",
      "95 89.54529771541723\n",
      "30 26.84534713232546\n",
      "24 20.967226765160607\n",
      "67 62.11406933531458\n",
      "69 74.8499967975051\n",
      "30 28.80472058804708\n",
      "54 49.378141873124065\n",
      "35 39.581274594515975\n",
      "76 69.95156315820105\n",
      "86 78.76874370894834\n"
     ]
    }
   ],
   "source": [
    "#comparing actual and predicted values of 'y'\n",
    "y_pred=[]\n",
    "for i in range(n):\n",
    "    print(y[i],predict(x[i]))\n",
    "    y_pred.append(predict(x[i]))"
   ]
  },
  {
   "cell_type": "code",
   "execution_count": 13,
   "metadata": {},
   "outputs": [
    {
     "data": {
      "text/plain": [
       "0.9529427607939829"
      ]
     },
     "execution_count": 13,
     "metadata": {},
     "output_type": "execute_result"
    }
   ],
   "source": [
    "#calculating r squared by sklearn\n",
    "from sklearn.metrics import r2_score\n",
    "y_true = z.Scores\n",
    "r2_score(y_true, y_pred)"
   ]
  },
  {
   "cell_type": "markdown",
   "metadata": {},
   "source": [
    "## Step 8: Scikit-learn implementation"
   ]
  },
  {
   "cell_type": "code",
   "execution_count": 14,
   "metadata": {},
   "outputs": [],
   "source": [
    "# Importing all libraries required in this notebook\n",
    "import pandas as pd\n",
    "import numpy as np  \n",
    "import matplotlib.pyplot as plt  \n",
    "%matplotlib inline\n",
    "import seaborn as sns"
   ]
  },
  {
   "cell_type": "code",
   "execution_count": 15,
   "metadata": {},
   "outputs": [
    {
     "name": "stdout",
     "output_type": "stream",
     "text": [
      "Data imported successfully\n"
     ]
    },
    {
     "data": {
      "text/html": [
       "<div>\n",
       "<style scoped>\n",
       "    .dataframe tbody tr th:only-of-type {\n",
       "        vertical-align: middle;\n",
       "    }\n",
       "\n",
       "    .dataframe tbody tr th {\n",
       "        vertical-align: top;\n",
       "    }\n",
       "\n",
       "    .dataframe thead th {\n",
       "        text-align: right;\n",
       "    }\n",
       "</style>\n",
       "<table border=\"1\" class=\"dataframe\">\n",
       "  <thead>\n",
       "    <tr style=\"text-align: right;\">\n",
       "      <th></th>\n",
       "      <th>Hours</th>\n",
       "      <th>Scores</th>\n",
       "    </tr>\n",
       "  </thead>\n",
       "  <tbody>\n",
       "    <tr>\n",
       "      <th>0</th>\n",
       "      <td>2.5</td>\n",
       "      <td>21</td>\n",
       "    </tr>\n",
       "    <tr>\n",
       "      <th>1</th>\n",
       "      <td>5.1</td>\n",
       "      <td>47</td>\n",
       "    </tr>\n",
       "    <tr>\n",
       "      <th>2</th>\n",
       "      <td>3.2</td>\n",
       "      <td>27</td>\n",
       "    </tr>\n",
       "    <tr>\n",
       "      <th>3</th>\n",
       "      <td>8.5</td>\n",
       "      <td>75</td>\n",
       "    </tr>\n",
       "    <tr>\n",
       "      <th>4</th>\n",
       "      <td>3.5</td>\n",
       "      <td>30</td>\n",
       "    </tr>\n",
       "    <tr>\n",
       "      <th>5</th>\n",
       "      <td>1.5</td>\n",
       "      <td>20</td>\n",
       "    </tr>\n",
       "    <tr>\n",
       "      <th>6</th>\n",
       "      <td>9.2</td>\n",
       "      <td>88</td>\n",
       "    </tr>\n",
       "    <tr>\n",
       "      <th>7</th>\n",
       "      <td>5.5</td>\n",
       "      <td>60</td>\n",
       "    </tr>\n",
       "    <tr>\n",
       "      <th>8</th>\n",
       "      <td>8.3</td>\n",
       "      <td>81</td>\n",
       "    </tr>\n",
       "    <tr>\n",
       "      <th>9</th>\n",
       "      <td>2.7</td>\n",
       "      <td>25</td>\n",
       "    </tr>\n",
       "    <tr>\n",
       "      <th>10</th>\n",
       "      <td>7.7</td>\n",
       "      <td>85</td>\n",
       "    </tr>\n",
       "    <tr>\n",
       "      <th>11</th>\n",
       "      <td>5.9</td>\n",
       "      <td>62</td>\n",
       "    </tr>\n",
       "    <tr>\n",
       "      <th>12</th>\n",
       "      <td>4.5</td>\n",
       "      <td>41</td>\n",
       "    </tr>\n",
       "    <tr>\n",
       "      <th>13</th>\n",
       "      <td>3.3</td>\n",
       "      <td>42</td>\n",
       "    </tr>\n",
       "    <tr>\n",
       "      <th>14</th>\n",
       "      <td>1.1</td>\n",
       "      <td>17</td>\n",
       "    </tr>\n",
       "    <tr>\n",
       "      <th>15</th>\n",
       "      <td>8.9</td>\n",
       "      <td>95</td>\n",
       "    </tr>\n",
       "    <tr>\n",
       "      <th>16</th>\n",
       "      <td>2.5</td>\n",
       "      <td>30</td>\n",
       "    </tr>\n",
       "    <tr>\n",
       "      <th>17</th>\n",
       "      <td>1.9</td>\n",
       "      <td>24</td>\n",
       "    </tr>\n",
       "    <tr>\n",
       "      <th>18</th>\n",
       "      <td>6.1</td>\n",
       "      <td>67</td>\n",
       "    </tr>\n",
       "    <tr>\n",
       "      <th>19</th>\n",
       "      <td>7.4</td>\n",
       "      <td>69</td>\n",
       "    </tr>\n",
       "    <tr>\n",
       "      <th>20</th>\n",
       "      <td>2.7</td>\n",
       "      <td>30</td>\n",
       "    </tr>\n",
       "    <tr>\n",
       "      <th>21</th>\n",
       "      <td>4.8</td>\n",
       "      <td>54</td>\n",
       "    </tr>\n",
       "    <tr>\n",
       "      <th>22</th>\n",
       "      <td>3.8</td>\n",
       "      <td>35</td>\n",
       "    </tr>\n",
       "    <tr>\n",
       "      <th>23</th>\n",
       "      <td>6.9</td>\n",
       "      <td>76</td>\n",
       "    </tr>\n",
       "    <tr>\n",
       "      <th>24</th>\n",
       "      <td>7.8</td>\n",
       "      <td>86</td>\n",
       "    </tr>\n",
       "  </tbody>\n",
       "</table>\n",
       "</div>"
      ],
      "text/plain": [
       "    Hours  Scores\n",
       "0     2.5      21\n",
       "1     5.1      47\n",
       "2     3.2      27\n",
       "3     8.5      75\n",
       "4     3.5      30\n",
       "5     1.5      20\n",
       "6     9.2      88\n",
       "7     5.5      60\n",
       "8     8.3      81\n",
       "9     2.7      25\n",
       "10    7.7      85\n",
       "11    5.9      62\n",
       "12    4.5      41\n",
       "13    3.3      42\n",
       "14    1.1      17\n",
       "15    8.9      95\n",
       "16    2.5      30\n",
       "17    1.9      24\n",
       "18    6.1      67\n",
       "19    7.4      69\n",
       "20    2.7      30\n",
       "21    4.8      54\n",
       "22    3.8      35\n",
       "23    6.9      76\n",
       "24    7.8      86"
      ]
     },
     "execution_count": 15,
     "metadata": {},
     "output_type": "execute_result"
    }
   ],
   "source": [
    "# Reading data from remote link\n",
    "url = \"http://bit.ly/w-data\"\n",
    "s_data = pd.read_csv(url)\n",
    "print(\"Data imported successfully\")\n",
    "\n",
    "s_data"
   ]
  },
  {
   "cell_type": "code",
   "execution_count": 16,
   "metadata": {},
   "outputs": [
    {
     "data": {
      "image/png": "[encoded data removed]",
      "text/plain": [
       "<Figure size 360x360 with 1 Axes>"
      ]
     },
     "metadata": {
      "needs_background": "light"
     },
     "output_type": "display_data"
    }
   ],
   "source": [
    "# scatter plot\n",
    "sns.relplot(x=\"Hours\", y=\"Scores\", data=s_data, kind=\"scatter\");"
   ]
  },
  {
   "cell_type": "code",
   "execution_count": 17,
   "metadata": {},
   "outputs": [
    {
     "data": {
      "text/plain": [
       "<matplotlib.axes._subplots.AxesSubplot at 0x13620280>"
      ]
     },
     "execution_count": 17,
     "metadata": {},
     "output_type": "execute_result"
    },
    {
     "data": {
      "image/png": "[encoded data removed]",
      "text/plain": [
       "<Figure size 432x288 with 1 Axes>"
      ]
     },
     "metadata": {
      "needs_background": "light"
     },
     "output_type": "display_data"
    }
   ],
   "source": [
    "sns.regplot(x=\"Hours\", y=\"Scores\", data=s_data)"
   ]
  },
  {
   "cell_type": "code",
   "execution_count": 18,
   "metadata": {},
   "outputs": [],
   "source": [
    "#Selecting the columns from data frame\n",
    "#  If you say df.iloc[:, -1] it means the last column, but df.iloc[:, :-1] means until the last column.\n",
    "X = z.iloc[:, :-1].values \n",
    "Y = z.iloc[:, 1].values  #last column"
   ]
  },
  {
   "cell_type": "code",
   "execution_count": 19,
   "metadata": {},
   "outputs": [],
   "source": [
    "#You can also use this\n",
    "# X=z.Hours\n",
    "# Y=z.Scores"
   ]
  },
  {
   "cell_type": "code",
   "execution_count": 20,
   "metadata": {},
   "outputs": [],
   "source": [
    "from sklearn.model_selection import train_test_split  \n",
    "X_train, X_test, Y_train, Y_test = train_test_split(X,Y,test_size=0.2, random_state=0)"
   ]
  },
  {
   "cell_type": "markdown",
   "metadata": {},
   "source": [
    "# Training the algorithm"
   ]
  },
  {
   "cell_type": "code",
   "execution_count": 21,
   "metadata": {},
   "outputs": [
    {
     "name": "stdout",
     "output_type": "stream",
     "text": [
      "Training complete.\n"
     ]
    }
   ],
   "source": [
    "from sklearn.linear_model import LinearRegression  \n",
    "regressor = LinearRegression()  \n",
    "regressor.fit(X_train, Y_train) \n",
    "\n",
    "print(\"Training complete.\")"
   ]
  },
  {
   "cell_type": "code",
   "execution_count": 22,
   "metadata": {},
   "outputs": [
    {
     "data": {
      "image/png": "[encoded data removed]",
      "text/plain": [
       "<Figure size 432x288 with 1 Axes>"
      ]
     },
     "metadata": {
      "needs_background": "light"
     },
     "output_type": "display_data"
    }
   ],
   "source": [
    "# Plotting the regression line\n",
    "line = regressor.coef_*X+regressor.intercept_\n",
    "\n",
    "# Plotting for the test data\n",
    "plt.scatter(X, Y)\n",
    "plt.plot(X, line);\n",
    "plt.show()"
   ]
  },
  {
   "cell_type": "markdown",
   "metadata": {},
   "source": [
    "\n",
    "## **Making Predictions**\n",
    "Now that we have trained our algorithm, it's time to make some predictions."
   ]
  },
  {
   "cell_type": "code",
   "execution_count": 23,
   "metadata": {},
   "outputs": [
    {
     "name": "stdout",
     "output_type": "stream",
     "text": [
      "[[1.5]\n",
      " [3.2]\n",
      " [7.4]\n",
      " [2.5]\n",
      " [5.9]]\n"
     ]
    }
   ],
   "source": [
    "print(X_test) # Testing data - In Hours\n",
    "Y_pred = regressor.predict(X_test) # Predicting the scores"
   ]
  },
  {
   "cell_type": "code",
   "execution_count": 24,
   "metadata": {},
   "outputs": [
    {
     "data": {
      "text/html": [
       "<div>\n",
       "<style scoped>\n",
       "    .dataframe tbody tr th:only-of-type {\n",
       "        vertical-align: middle;\n",
       "    }\n",
       "\n",
       "    .dataframe tbody tr th {\n",
       "        vertical-align: top;\n",
       "    }\n",
       "\n",
       "    .dataframe thead th {\n",
       "        text-align: right;\n",
       "    }\n",
       "</style>\n",
       "<table border=\"1\" class=\"dataframe\">\n",
       "  <thead>\n",
       "    <tr style=\"text-align: right;\">\n",
       "      <th></th>\n",
       "      <th>Actual</th>\n",
       "      <th>Predicted</th>\n",
       "    </tr>\n",
       "  </thead>\n",
       "  <tbody>\n",
       "    <tr>\n",
       "      <th>0</th>\n",
       "      <td>20</td>\n",
       "      <td>16.884145</td>\n",
       "    </tr>\n",
       "    <tr>\n",
       "      <th>1</th>\n",
       "      <td>27</td>\n",
       "      <td>33.732261</td>\n",
       "    </tr>\n",
       "    <tr>\n",
       "      <th>2</th>\n",
       "      <td>69</td>\n",
       "      <td>75.357018</td>\n",
       "    </tr>\n",
       "    <tr>\n",
       "      <th>3</th>\n",
       "      <td>30</td>\n",
       "      <td>26.794801</td>\n",
       "    </tr>\n",
       "    <tr>\n",
       "      <th>4</th>\n",
       "      <td>62</td>\n",
       "      <td>60.491033</td>\n",
       "    </tr>\n",
       "  </tbody>\n",
       "</table>\n",
       "</div>"
      ],
      "text/plain": [
       "   Actual  Predicted\n",
       "0      20  16.884145\n",
       "1      27  33.732261\n",
       "2      69  75.357018\n",
       "3      30  26.794801\n",
       "4      62  60.491033"
      ]
     },
     "execution_count": 24,
     "metadata": {},
     "output_type": "execute_result"
    }
   ],
   "source": [
    "# Comparing Actual vs Predicted\n",
    "df = pd.DataFrame({'Actual': Y_test, 'Predicted': Y_pred})  \n",
    "df "
   ]
  },
  {
   "cell_type": "code",
   "execution_count": 25,
   "metadata": {},
   "outputs": [
    {
     "name": "stdout",
     "output_type": "stream",
     "text": [
      "No of Hours = [[9.25]]\n",
      "Predicted Score = 93.69173248737538\n"
     ]
    }
   ],
   "source": [
    "# You can also test with your own data\n",
    "hours = np.array([[9.25,]])\n",
    "own_pred = regressor.predict(hours)\n",
    "print(\"No of Hours = {}\".format(hours))\n",
    "print(\"Predicted Score = {}\".format(own_pred[0]))"
   ]
  },
  {
   "cell_type": "markdown",
   "metadata": {},
   "source": [
    "# **Evaluating the model**\n",
    "\n",
    "The final step is to evaluate the performance of algorithm. This step is particularly important to compare how well different algorithms perform on a particular dataset. For simplicity here, we have chosen the mean square error. There are many such metrics."
   ]
  },
  {
   "cell_type": "code",
   "execution_count": 26,
   "metadata": {},
   "outputs": [
    {
     "name": "stdout",
     "output_type": "stream",
     "text": [
      "Mean Absolute Error: 4.18385989900298\n"
     ]
    }
   ],
   "source": [
    "from sklearn import metrics  \n",
    "print('Mean Absolute Error:',metrics.mean_absolute_error(Y_test, Y_pred)) "
   ]
  },
  {
   "cell_type": "markdown",
   "metadata": {},
   "source": [
    "<img src =\"https://www.gstatic.com/education/formulas2/-1/en/mean_squared_error.svg\">"
   ]
  },
  {
   "cell_type": "code",
   "execution_count": 41,
   "metadata": {},
   "outputs": [
    {
     "data": {
      "text/plain": [
       "21.598769307217413"
      ]
     },
     "execution_count": 41,
     "metadata": {},
     "output_type": "execute_result"
    }
   ],
   "source": [
    "import sklearn as sk\n",
    "sk.metrics.mean_squared_error(Y_test, Y_pred, sample_weight=None, multioutput='uniform_average', squared=True)"
   ]
  },
  {
   "cell_type": "markdown",
   "metadata": {},
   "source": [
    "<img src =\"https://www.gstatic.com/education/formulas2/-1/en/root_mean_square_deviation.svg\">\n",
    "The root-mean-square deviation (RMSD) or root-mean-square error (RMSE) is a frequently used measure of the differences between values (sample or population values) predicted by a model or an estimator and the values observed"
   ]
  },
  {
   "cell_type": "code",
   "execution_count": 39,
   "metadata": {},
   "outputs": [
    {
     "data": {
      "text/plain": [
       "4.647447612100368"
      ]
     },
     "execution_count": 39,
     "metadata": {},
     "output_type": "execute_result"
    }
   ],
   "source": [
    "## RMSE = sqrt(mean_squared_error)\n",
    "np.sqrt(sk.metrics.mean_squared_error(Y_test, Y_pred, sample_weight=None, multioutput='uniform_average', squared=True))"
   ]
  },
  {
   "cell_type": "code",
   "execution_count": 29,
   "metadata": {},
   "outputs": [
    {
     "data": {
      "text/plain": [
       "0.9454906892105355"
      ]
     },
     "execution_count": 29,
     "metadata": {},
     "output_type": "execute_result"
    }
   ],
   "source": [
    "#R Squared through sklearn\n",
    "import sklearn as sk\n",
    "sk.metrics.r2_score(Y_test, Y_pred,sample_weight=None, multioutput='uniform_average')"
   ]
  },
  {
   "cell_type": "code",
   "execution_count": 38,
   "metadata": {},
   "outputs": [
    {
     "name": "stdout",
     "output_type": "stream",
     "text": [
      "20 16.884144762398027\n",
      "27 33.732260779489835\n",
      "69 75.35701799818723\n",
      "30 26.794801243040265\n",
      "62 60.49103327722388\n"
     ]
    }
   ],
   "source": [
    "#comparing Actual Y and Predicted Y\n",
    "for i in range(len(Y_test)):\n",
    "    print (Y_test[i],Y_pred[i])"
   ]
  },
  {
   "cell_type": "markdown",
   "metadata": {},
   "source": [
    "## Step 9: Stochastic Gradient Descent (SGDRegressor)"
   ]
  },
  {
   "cell_type": "code",
   "execution_count": 30,
   "metadata": {},
   "outputs": [],
   "source": [
    "j=sk.linear_model.SGDRegressor(loss='squared_loss', penalty='l2', alpha=0.001, l1_ratio=0.15, fit_intercept=True, max_iter=1000, tol=0.001, shuffle=True, verbose=0, epsilon=0.1, random_state=None, learning_rate='invscaling', eta0=0.01, power_t=0.25, early_stopping=False, validation_fraction=0.1, n_iter_no_change=5, warm_start=False, average=False)"
   ]
  },
  {
   "cell_type": "code",
   "execution_count": 31,
   "metadata": {},
   "outputs": [
    {
     "data": {
      "text/plain": [
       "SGDRegressor(alpha=0.001)"
      ]
     },
     "execution_count": 31,
     "metadata": {},
     "output_type": "execute_result"
    }
   ],
   "source": [
    "j.fit(X, Y)"
   ]
  },
  {
   "cell_type": "code",
   "execution_count": 32,
   "metadata": {},
   "outputs": [
    {
     "data": {
      "text/plain": [
       "92.97420126293007"
      ]
     },
     "execution_count": 32,
     "metadata": {},
     "output_type": "execute_result"
    }
   ],
   "source": [
    "predict(9.25)"
   ]
  },
  {
   "cell_type": "markdown",
   "metadata": {},
   "source": [
    "<img src =\"https://miro.medium.com/max/400/1*eDCn5xs-BdgSFcmaEHxH-g.jpeg\">"
   ]
  },
  {
   "cell_type": "markdown",
   "metadata": {},
   "source": [
    "### Resources:\n",
    "- https://www.analyticsvidhya.com/blog/2020/10/linear-regression-for-absolute-beginners-with-implementation-in-python/\n",
    "- https://medium.com/analytics-vidhya/ordinary-least-squared-ols-regression-90942a2fdad5\n",
    "- https://towardsdatascience.com/simple-linear-regression-and-ols-introduction-to-the-theory-1b48f7c69867\n",
    "- https://towardsdatascience.com/understanding-the-ols-method-for-simple-linear-regression-e0a4e8f692cc\n",
    "- https://towardsdatascience.com/linear-regression-from-scratch-cd0dee067f72\n",
    "- https://towardsdatascience.com/linear-regression-using-python-b136c91bf0a2 #(IMP)\n",
    "- https://towardsdatascience.com/linear-regression-simplified-ordinary-least-square-vs-gradient-descent-48145de2cf76\n",
    "- https://medium.com/edureka/least-square-regression-40b59cca8ea7\n",
    "- https://medium.com/analytics-vidhya/ordinary-least-square-ols-method-for-linear-regression-ef8ca10aadfc\n",
    "- https://www.analyticsvidhya.com/blog/2020/10/linear-regression-for-absolute-beginners-with-implementation-in-python/\n",
    "- https://gist.github.com/felipessalvatore/c2e1c09dfcb8710b847e2457620f8204\n",
    "- https://medium.com/@harishreddyp98/linear-regression-in-python-c164149b93ab\n",
    "- https://towardsdatascience.com/predicting-house-prices-with-linear-regression-machine-learning-from-scratch-part-ii-47a0238aeac1\n",
    "- https://towardsdatascience.com/understanding-the-ols-method-for-simple-linear-regression-e0a4e8f692cc\n",
    "- https://towardsdatascience.com/linear-regression-in-python-a4cfbab72c17\n",
    "- https://medium.com/ml-ai-study-group/linear-regression-403a11f1ece2"
   ]
  },
  {
   "cell_type": "code",
   "execution_count": 112,
   "metadata": {},
   "outputs": [
    {
     "name": "stderr",
     "output_type": "stream",
     "text": [
      "c:\\users\\preetmehta\\appdata\\local\\programs\\python\\python38-32\\lib\\site-packages\\sklearn\\utils\\deprecation.py:143: FutureWarning: The sklearn.datasets.samples_generator module is  deprecated in version 0.22 and will be removed in version 0.24. The corresponding classes / functions should instead be imported from sklearn.datasets. Anything that cannot be imported from sklearn.datasets is now part of the private API.\n",
      "  warnings.warn(message, FutureWarning)\n"
     ]
    },
    {
     "name": "stdout",
     "output_type": "stream",
     "text": [
      "Gradient Descent: -3.73, 82.80 73\n",
      "Least Squares: -3.71, 82.90\n"
     ]
    },
    {
     "data": {
      "image/png": "[encoded data removed]",
      "text/plain": [
       "<Figure size 432x288 with 1 Axes>"
      ]
     },
     "metadata": {
      "needs_background": "light"
     },
     "output_type": "display_data"
    },
    {
     "data": {
      "image/png": "[encoded data removed]",
      "text/plain": [
       "<Figure size 1440x720 with 1 Axes>"
      ]
     },
     "metadata": {
      "needs_background": "light"
     },
     "output_type": "display_data"
    }
   ],
   "source": [
    "#code adapted from http://tillbergmann.com/blog/python-gradient-descent.html\n",
    "\n",
    "%matplotlib inline\n",
    "import numpy as np\n",
    "import seaborn as sns\n",
    "import matplotlib.pyplot as plt\n",
    "import matplotlib.animation as animation\n",
    "from scipy import stats \n",
    "\n",
    "from sklearn.datasets.samples_generator import make_regression \n",
    "\n",
    "\n",
    "\n",
    "x, y = make_regression(n_samples = 100, \n",
    "                       n_features=1, \n",
    "                       n_informative=1, \n",
    "                       noise=20,\n",
    "                       random_state=2017)\n",
    "x = x.flatten()\n",
    "slope, intercept, _,_,_ = stats.linregress(x,y)\n",
    "best_fit = np.vectorize(lambda x: x * slope + intercept)\n",
    "plt.plot(x,y, 'o', alpha=0.5)\n",
    "grid = np.arange(-3,3,0.1)\n",
    "plt.plot(grid,best_fit(grid), '.')\n",
    "\n",
    "def gradient_descent(x, y, theta_init, step=0.001, maxsteps=0, precision=0.001, ):\n",
    "    costs = []\n",
    "    m = y.size # number of data points\n",
    "    theta = theta_init\n",
    "    history = [] # to store all thetas\n",
    "    preds = []\n",
    "    counter = 0\n",
    "    oldcost = 0\n",
    "    pred = np.dot(x, theta)\n",
    "    error = pred - y \n",
    "    currentcost = np.sum(error ** 2) / (2 * m)\n",
    "    preds.append(pred)\n",
    "    costs.append(currentcost)\n",
    "    history.append(theta)\n",
    "    counter+=1\n",
    "    while abs(currentcost - oldcost) > precision:\n",
    "        oldcost=currentcost\n",
    "        gradient = x.T.dot(error)/m \n",
    "        theta = theta - step * gradient  # update\n",
    "        history.append(theta)\n",
    "        \n",
    "        pred = np.dot(x, theta)\n",
    "        error = pred - y \n",
    "        currentcost = np.sum(error ** 2) / (2 * m)\n",
    "        costs.append(currentcost)\n",
    "        \n",
    "        if counter % 25 == 0: preds.append(pred)\n",
    "        counter+=1\n",
    "        if maxsteps:\n",
    "            if counter == maxsteps:\n",
    "                break\n",
    "        \n",
    "    return history, costs, preds, counter\n",
    "xaug = np.c_[np.ones(x.shape[0]), x]\n",
    "theta_i = [-15, 40] + np.random.rand(2)\n",
    "history, cost, preds, iters = gradient_descent(xaug, y, theta_i, step=0.1)\n",
    "theta = history[-1]\n",
    "print(\"Gradient Descent: {:.2f}, {:.2f} {:d}\".format(theta[0], theta[1], iters))\n",
    "print(\"Least Squares: {:.2f}, {:.2f}\".format(intercept, slope))\n",
    "\n",
    "\n",
    "from mpl_toolkits.mplot3d import Axes3D\n",
    "\n",
    "def error(X, Y, THETA):\n",
    "    return np.sum((X.dot(THETA) - Y)**2)/(2*Y.size)\n",
    "\n",
    "ms = np.linspace(theta[0] - 20 , theta[0] + 20, 20)\n",
    "bs = np.linspace(theta[1] - 40 , theta[1] + 40, 40)\n",
    "\n",
    "M, B = np.meshgrid(ms, bs)\n",
    "\n",
    "zs = np.array([error(xaug, y, theta) \n",
    "               for theta in zip(np.ravel(M), np.ravel(B))])\n",
    "Z = zs.reshape(M.shape)\n",
    "\n",
    "fig = plt.figure(figsize=(20, 10))\n",
    "ax = fig.add_subplot(111, projection='3d')\n",
    "\n",
    "ax.plot_surface(M, B, Z, rstride=1, cstride=1, color='b', alpha=0.2)\n",
    "#ax.contour(M, B, Z, 20, color='b', alpha=0.5, offset=0, stride=30)\n",
    "\n",
    "\n",
    "ax.set_xlabel('x1', labelpad=30, fontsize=24, fontweight='bold')\n",
    "ax.set_ylabel('x2', labelpad=30, fontsize=24, fontweight='bold')\n",
    "ax.set_zlabel('f(x1,x2)', labelpad=30, fontsize=24, fontweight='bold')\n",
    "ax.view_init(elev=20., azim=30)\n",
    "ax.plot([theta[0]], [theta[1]], [cost[-1]] , markerfacecolor='r', markeredgecolor='r', marker='o', markersize=7)\n",
    "ax.plot([history[0][0]], [history[0][1]], [cost[0]] , markerfacecolor='r', markeredgecolor='r', marker='o', markersize=7)\n",
    "\n",
    "\n",
    "ax.plot([t[0] for t in history], [t[1] for t in history], cost , markerfacecolor='r', markeredgecolor='r', marker='.', markersize=2)\n",
    "ax.plot([t[0] for t in history], [t[1] for t in history], 0 , markerfacecolor='r', markeredgecolor='r', marker='.', markersize=2)\n",
    "\n",
    "fig.suptitle(\"Minimizando f(x1,x2)\", fontsize=24, fontweight='bold')\n",
    "plt.savefig(\"Minimization_image.png\")"
   ]
  },
  {
   "cell_type": "code",
   "execution_count": null,
   "metadata": {},
   "outputs": [],
   "source": []
  }
 ],
 "metadata": {
  "kernelspec": {
   "display_name": "Python 3",
   "language": "python",
   "name": "python3"
  },
  "language_info": {
   "codemirror_mode": {
    "name": "ipython",
    "version": 3
   },
   "file_extension": ".py",
   "mimetype": "text/x-python",
   "name": "python",
   "nbconvert_exporter": "python",
   "pygments_lexer": "ipython3",
   "version": "3.8.2"
  }
 },
 "nbformat": 4,
 "nbformat_minor": 4
}
